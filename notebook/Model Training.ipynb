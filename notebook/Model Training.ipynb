{
 "cells": [
  {
   "cell_type": "code",
   "execution_count": 7,
   "id": "0f6f154c",
   "metadata": {},
   "outputs": [],
   "source": [
    "import pandas as pd\n",
    "import numpy as np\n",
    "import matplotlib.pyplot as plt\n",
    "import seaborn as sn\n",
    "\n",
    "from sklearn.preprocessing import OneHotEncoder, StandardScaler\n",
    "from sklearn.compose import ColumnTransformer\n",
    "from sklearn.model_selection import train_test_split\n",
    "from sklearn.metrics import mean_squared_error, mean_absolute_error, r2_score, confusion_matrix\n",
    "\n",
    "from sklearn.linear_model import LinearRegression, Lasso, Ridge\n",
    "from sklearn.neighbors import KNeighborsRegressor\n",
    "from sklearn.tree import DecisionTreeRegressor\n",
    "from sklearn.ensemble import RandomForestRegressor, AdaBoostRegressor\n",
    "from sklearn.svm import SVR\n",
    "from sklearn.model_selection import RandomizedSearchCV\n",
    "# from xgboost import XGBRegressor\n",
    "from catboost import CatBoostRegressor\n",
    "\n",
    "import warnings\n",
    "\n",
    "warnings.filterwarnings('ignore')"
   ]
  },
  {
   "cell_type": "code",
   "execution_count": 5,
   "id": "406590de",
   "metadata": {},
   "outputs": [],
   "source": [
    "df = pd.read_csv(\"data/stud.csv\")"
   ]
  },
  {
   "cell_type": "code",
   "execution_count": 4,
   "id": "402a7a5d",
   "metadata": {},
   "outputs": [
    {
     "data": {
      "text/html": [
       "<div>\n",
       "<style scoped>\n",
       "    .dataframe tbody tr th:only-of-type {\n",
       "        vertical-align: middle;\n",
       "    }\n",
       "\n",
       "    .dataframe tbody tr th {\n",
       "        vertical-align: top;\n",
       "    }\n",
       "\n",
       "    .dataframe thead th {\n",
       "        text-align: right;\n",
       "    }\n",
       "</style>\n",
       "<table border=\"1\" class=\"dataframe\">\n",
       "  <thead>\n",
       "    <tr style=\"text-align: right;\">\n",
       "      <th></th>\n",
       "      <th>gender</th>\n",
       "      <th>race_ethnicity</th>\n",
       "      <th>parental_level_of_education</th>\n",
       "      <th>lunch</th>\n",
       "      <th>test_preparation_course</th>\n",
       "      <th>math_score</th>\n",
       "      <th>reading_score</th>\n",
       "      <th>writing_score</th>\n",
       "    </tr>\n",
       "  </thead>\n",
       "  <tbody>\n",
       "    <tr>\n",
       "      <th>0</th>\n",
       "      <td>female</td>\n",
       "      <td>group B</td>\n",
       "      <td>bachelor's degree</td>\n",
       "      <td>standard</td>\n",
       "      <td>none</td>\n",
       "      <td>72</td>\n",
       "      <td>72</td>\n",
       "      <td>74</td>\n",
       "    </tr>\n",
       "    <tr>\n",
       "      <th>1</th>\n",
       "      <td>female</td>\n",
       "      <td>group C</td>\n",
       "      <td>some college</td>\n",
       "      <td>standard</td>\n",
       "      <td>completed</td>\n",
       "      <td>69</td>\n",
       "      <td>90</td>\n",
       "      <td>88</td>\n",
       "    </tr>\n",
       "    <tr>\n",
       "      <th>2</th>\n",
       "      <td>female</td>\n",
       "      <td>group B</td>\n",
       "      <td>master's degree</td>\n",
       "      <td>standard</td>\n",
       "      <td>none</td>\n",
       "      <td>90</td>\n",
       "      <td>95</td>\n",
       "      <td>93</td>\n",
       "    </tr>\n",
       "    <tr>\n",
       "      <th>3</th>\n",
       "      <td>male</td>\n",
       "      <td>group A</td>\n",
       "      <td>associate's degree</td>\n",
       "      <td>free/reduced</td>\n",
       "      <td>none</td>\n",
       "      <td>47</td>\n",
       "      <td>57</td>\n",
       "      <td>44</td>\n",
       "    </tr>\n",
       "    <tr>\n",
       "      <th>4</th>\n",
       "      <td>male</td>\n",
       "      <td>group C</td>\n",
       "      <td>some college</td>\n",
       "      <td>standard</td>\n",
       "      <td>none</td>\n",
       "      <td>76</td>\n",
       "      <td>78</td>\n",
       "      <td>75</td>\n",
       "    </tr>\n",
       "  </tbody>\n",
       "</table>\n",
       "</div>"
      ],
      "text/plain": [
       "   gender race_ethnicity parental_level_of_education         lunch  \\\n",
       "0  female        group B           bachelor's degree      standard   \n",
       "1  female        group C                some college      standard   \n",
       "2  female        group B             master's degree      standard   \n",
       "3    male        group A          associate's degree  free/reduced   \n",
       "4    male        group C                some college      standard   \n",
       "\n",
       "  test_preparation_course  math_score  reading_score  writing_score  \n",
       "0                    none          72             72             74  \n",
       "1               completed          69             90             88  \n",
       "2                    none          90             95             93  \n",
       "3                    none          47             57             44  \n",
       "4                    none          76             78             75  "
      ]
     },
     "execution_count": 4,
     "metadata": {},
     "output_type": "execute_result"
    }
   ],
   "source": [
    "df.head()"
   ]
  },
  {
   "cell_type": "code",
   "execution_count": 5,
   "id": "7bbf4b77",
   "metadata": {},
   "outputs": [],
   "source": [
    "X = df.drop('math_score', axis=1)"
   ]
  },
  {
   "cell_type": "code",
   "execution_count": 7,
   "id": "a1749c3a",
   "metadata": {},
   "outputs": [],
   "source": [
    "Y = df.math_score"
   ]
  },
  {
   "cell_type": "code",
   "execution_count": 9,
   "id": "b780ace1",
   "metadata": {},
   "outputs": [
    {
     "name": "stdout",
     "output_type": "stream",
     "text": [
      "Categories in ' gender variable: ['female' 'male']\n",
      "Categories in ' race_ethnicity variable: ['group B' 'group C' 'group A' 'group D' 'group E']\n",
      "Categories in ' parental_level_of_education variable: [\"bachelor's degree\" 'some college' \"master's degree\" \"associate's degree\"\n",
      " 'high school' 'some high school']\n",
      "Categories in ' lunch variable: ['standard' 'free/reduced']\n",
      "Categories in ' test_preparation_course variable: ['none' 'completed']\n"
     ]
    }
   ],
   "source": [
    "def exploring_data(data):\n",
    "    for colname, coltype in data.dtypes.iteritems():\n",
    "        if coltype == object:\n",
    "            print(f\"Categories in ' {colname} variable:\",data[colname].unique())\n",
    "            \n",
    "exploring_data(df)"
   ]
  },
  {
   "cell_type": "code",
   "execution_count": 23,
   "id": "f52dcf04",
   "metadata": {},
   "outputs": [],
   "source": [
    "# Column Transformation\n",
    "\n",
    "num_features = X.select_dtypes(exclude=\"object\").columns\n",
    "cate_features = X.select_dtypes(include='object').columns\n",
    "\n",
    "numeric_transformation = StandardScaler()\n",
    "OHE_tranformation = OneHotEncoder()\n",
    "\n",
    "preprocessor = ColumnTransformer(\n",
    "    [\n",
    "        (\"OneHotEncoder\", OHE_tranformation, cate_features),\n",
    "        (\"StandardScaler\", numeric_transformation, num_features)\n",
    "    ]    \n",
    ")"
   ]
  },
  {
   "cell_type": "code",
   "execution_count": 24,
   "id": "177e80d0",
   "metadata": {},
   "outputs": [],
   "source": [
    "X = preprocessor.fit_transform(X)"
   ]
  },
  {
   "cell_type": "code",
   "execution_count": 38,
   "id": "4b5c7849",
   "metadata": {},
   "outputs": [],
   "source": [
    "X_train, X_test, y_train, y_test = train_test_split(X, Y, test_size=0.2, random_state=42)"
   ]
  },
  {
   "cell_type": "code",
   "execution_count": 40,
   "id": "d0bac772",
   "metadata": {},
   "outputs": [
    {
     "data": {
      "text/plain": [
       "((800, 19), (200, 19))"
      ]
     },
     "execution_count": 40,
     "metadata": {},
     "output_type": "execute_result"
    }
   ],
   "source": [
    "X_train.shape, X_test.shape"
   ]
  },
  {
   "cell_type": "code",
   "execution_count": 41,
   "id": "8473e036",
   "metadata": {},
   "outputs": [
    {
     "data": {
      "text/plain": [
       "((800,), (200,))"
      ]
     },
     "execution_count": 41,
     "metadata": {},
     "output_type": "execute_result"
    }
   ],
   "source": [
    "y_train.shape, y_test.shape"
   ]
  },
  {
   "cell_type": "markdown",
   "id": "8d213444",
   "metadata": {},
   "source": [
    "### Evaluate Function to give all metrics after model training"
   ]
  },
  {
   "cell_type": "code",
   "execution_count": 45,
   "id": "7c087cfb",
   "metadata": {},
   "outputs": [],
   "source": [
    "def evalute_model(true, predicted):\n",
    "    mae = mean_absolute_error(true, predicted)\n",
    "    mse = mean_squared_error(true, predicted)\n",
    "    rmse = np.sqrt(mean_squared_error(true, predicted))\n",
    "    r2_squared = r2_score(true, predicted)\n",
    "    return mae, rmse, r2_squared "
   ]
  },
  {
   "cell_type": "code",
   "execution_count": 75,
   "id": "cdd46acc",
   "metadata": {
    "collapsed": true
   },
   "outputs": [
    {
     "name": "stdout",
     "output_type": "stream",
     "text": [
      "Model Performance for Training set of Linear Regression\n",
      "Root Mean Squared Error: 5.3252\n",
      "Mean Absolute Error: 4.2693\n",
      "R2 Score: 0.8742\n",
      "-----------------------------------------------\n",
      "Model Performance for Test set of Linear Regression\n",
      "Root Mean Squared Error: 5.387\n",
      "Mean Absolute Error: 4.2064\n",
      "R2 Score: 0.8807 \n",
      "\n",
      "===================================\n",
      "\n",
      "\n",
      "Model Performance for Training set of Lasso\n",
      "Root Mean Squared Error: 6.5938\n",
      "Mean Absolute Error: 5.2063\n",
      "R2 Score: 0.8071\n",
      "-----------------------------------------------\n",
      "Model Performance for Test set of Lasso\n",
      "Root Mean Squared Error: 6.5197\n",
      "Mean Absolute Error: 5.1579\n",
      "R2 Score: 0.8253 \n",
      "\n",
      "===================================\n",
      "\n",
      "\n",
      "Model Performance for Training set of Ridge\n",
      "Root Mean Squared Error: 5.3233\n",
      "Mean Absolute Error: 4.265\n",
      "R2 Score: 0.8743\n",
      "-----------------------------------------------\n",
      "Model Performance for Test set of Ridge\n",
      "Root Mean Squared Error: 5.3904\n",
      "Mean Absolute Error: 4.2111\n",
      "R2 Score: 0.8806 \n",
      "\n",
      "===================================\n",
      "\n",
      "\n",
      "Model Performance for Training set of K_Neighbors Regressor\n",
      "Root Mean Squared Error: 5.7133\n",
      "Mean Absolute Error: 4.5218\n",
      "R2 Score: 0.8552\n",
      "-----------------------------------------------\n",
      "Model Performance for Test set of K_Neighbors Regressor\n",
      "Root Mean Squared Error: 7.2412\n",
      "Mean Absolute Error: 5.611\n",
      "R2 Score: 0.7845 \n",
      "\n",
      "===================================\n",
      "\n",
      "\n",
      "Model Performance for Training set of Decision Tree\n",
      "Root Mean Squared Error: 0.2795\n",
      "Mean Absolute Error: 0.0188\n",
      "R2 Score: 0.9997\n",
      "-----------------------------------------------\n",
      "Model Performance for Test set of Decision Tree\n",
      "Root Mean Squared Error: 8.0495\n",
      "Mean Absolute Error: 6.295\n",
      "R2 Score: 0.7337 \n",
      "\n",
      "===================================\n",
      "\n",
      "\n",
      "Model Performance for Training set of Random Forest Regressor\n",
      "Root Mean Squared Error: 2.3071\n",
      "Mean Absolute Error: 1.8246\n",
      "R2 Score: 0.9764\n",
      "-----------------------------------------------\n",
      "Model Performance for Test set of Random Forest Regressor\n",
      "Root Mean Squared Error: 5.932\n",
      "Mean Absolute Error: 4.5996\n",
      "R2 Score: 0.8554 \n",
      "\n",
      "===================================\n",
      "\n",
      "\n",
      "Model Performance for Training set of XGBRegressor\n",
      "Root Mean Squared Error: 1.0073\n",
      "Mean Absolute Error: 0.6875\n",
      "R2 Score: 0.9955\n",
      "-----------------------------------------------\n",
      "Model Performance for Test set of XGBRegressor\n",
      "Root Mean Squared Error: 6.4733\n",
      "Mean Absolute Error: 5.0577\n",
      "R2 Score: 0.8278 \n",
      "\n",
      "===================================\n",
      "\n",
      "\n",
      "Model Performance for Training set of CatBoost Regressor\n",
      "Root Mean Squared Error: 3.0427\n",
      "Mean Absolute Error: 2.4054\n",
      "R2 Score: 0.9589\n",
      "-----------------------------------------------\n",
      "Model Performance for Test set of CatBoost Regressor\n",
      "Root Mean Squared Error: 6.0086\n",
      "Mean Absolute Error: 4.6125\n",
      "R2 Score: 0.8516 \n",
      "\n",
      "===================================\n",
      "\n",
      "\n",
      "Model Performance for Training set of AdaBoost Regressor\n",
      "Root Mean Squared Error: 5.8678\n",
      "Mean Absolute Error: 4.798\n",
      "R2 Score: 0.8473\n",
      "-----------------------------------------------\n",
      "Model Performance for Test set of AdaBoost Regressor\n",
      "Root Mean Squared Error: 6.0063\n",
      "Mean Absolute Error: 4.676\n",
      "R2 Score: 0.8517 \n",
      "\n",
      "===================================\n",
      "\n",
      "\n"
     ]
    }
   ],
   "source": [
    "models = {\n",
    "    \"Linear Regression\" : LinearRegression(),\n",
    "    \"Lasso\" : Lasso(),\n",
    "    \"Ridge\" : Ridge(),\n",
    "    \"K_Neighbors Regressor\" : KNeighborsRegressor(),\n",
    "    \"Decision Tree\" : DecisionTreeRegressor(),\n",
    "    \"Random Forest Regressor\" : RandomForestRegressor(),\n",
    "    \"XGBRegressor\" : XGBRegressor(),\n",
    "    \"CatBoost Regressor\" : CatBoostRegressor(verbose=False),\n",
    "    \"AdaBoost Regressor\" : AdaBoostRegressor()  \n",
    "}\n",
    "\n",
    "\n",
    "model_list = []\n",
    "r2_list = []\n",
    "\n",
    "for i in range(len(list(models))):\n",
    "    model = list(models.values())[i]\n",
    "    model.fit(X_train, y_train)\n",
    "    \n",
    "    y_train_predict = model.predict(X_train)\n",
    "    y_test_predict = model.predict(X_test)\n",
    "    \n",
    "    # Evaluate Train and Test dataset\n",
    "    model_train_mae, model_train_rmse, model_train_r2 = evalute_model(y_train, y_train_predict)\n",
    "    model_test_mae, model_test_rmse, model_test_r2 = evalute_model(y_test, y_test_predict)\n",
    "    \n",
    "    model_list.append(list(models.keys())[i])\n",
    "    \n",
    "    print(f\"Model Performance for Training set of {list(models.keys())[i]}\")\n",
    "    print(f\"Root Mean Squared Error: {round(model_train_rmse, 4)}\")\n",
    "    print(f\"Mean Absolute Error: {round(model_train_mae, 4)}\")\n",
    "    print(f\"R2 Score: {round(model_train_r2,4)}\")\n",
    "    \n",
    "    print(\"-----------------------------------------------\")\n",
    "    \n",
    "    print(f\"Model Performance for Test set of {list(models.keys())[i]}\")\n",
    "    print(f\"Root Mean Squared Error: {round(model_test_rmse, 4)}\")\n",
    "    print(f\"Mean Absolute Error: {round(model_test_mae, 4)}\")\n",
    "    print(f\"R2 Score: {round(model_test_r2, 4)} \\n\")\n",
    "    r2_list.append(model_test_r2)\n",
    "    \n",
    "    print(\"=\"*35)\n",
    "    print('\\n')\n"
   ]
  },
  {
   "cell_type": "code",
   "execution_count": 87,
   "id": "36f1e979",
   "metadata": {},
   "outputs": [
    {
     "data": {
      "text/html": [
       "<div>\n",
       "<style scoped>\n",
       "    .dataframe tbody tr th:only-of-type {\n",
       "        vertical-align: middle;\n",
       "    }\n",
       "\n",
       "    .dataframe tbody tr th {\n",
       "        vertical-align: top;\n",
       "    }\n",
       "\n",
       "    .dataframe thead th {\n",
       "        text-align: right;\n",
       "    }\n",
       "</style>\n",
       "<table border=\"1\" class=\"dataframe\">\n",
       "  <thead>\n",
       "    <tr style=\"text-align: right;\">\n",
       "      <th></th>\n",
       "      <th>Model Name</th>\n",
       "      <th>R2 Score</th>\n",
       "    </tr>\n",
       "  </thead>\n",
       "  <tbody>\n",
       "    <tr>\n",
       "      <th>0</th>\n",
       "      <td>Linear Regression</td>\n",
       "      <td>0.880745</td>\n",
       "    </tr>\n",
       "    <tr>\n",
       "      <th>1</th>\n",
       "      <td>Ridge</td>\n",
       "      <td>0.880593</td>\n",
       "    </tr>\n",
       "    <tr>\n",
       "      <th>2</th>\n",
       "      <td>Random Forest Regressor</td>\n",
       "      <td>0.855394</td>\n",
       "    </tr>\n",
       "    <tr>\n",
       "      <th>3</th>\n",
       "      <td>AdaBoost Regressor</td>\n",
       "      <td>0.851747</td>\n",
       "    </tr>\n",
       "    <tr>\n",
       "      <th>4</th>\n",
       "      <td>CatBoost Regressor</td>\n",
       "      <td>0.851632</td>\n",
       "    </tr>\n",
       "    <tr>\n",
       "      <th>5</th>\n",
       "      <td>XGBRegressor</td>\n",
       "      <td>0.827797</td>\n",
       "    </tr>\n",
       "    <tr>\n",
       "      <th>6</th>\n",
       "      <td>Lasso</td>\n",
       "      <td>0.825320</td>\n",
       "    </tr>\n",
       "    <tr>\n",
       "      <th>7</th>\n",
       "      <td>K_Neighbors Regressor</td>\n",
       "      <td>0.784518</td>\n",
       "    </tr>\n",
       "    <tr>\n",
       "      <th>8</th>\n",
       "      <td>Decision Tree</td>\n",
       "      <td>0.733725</td>\n",
       "    </tr>\n",
       "  </tbody>\n",
       "</table>\n",
       "</div>"
      ],
      "text/plain": [
       "                Model Name  R2 Score\n",
       "0        Linear Regression  0.880745\n",
       "1                    Ridge  0.880593\n",
       "2  Random Forest Regressor  0.855394\n",
       "3       AdaBoost Regressor  0.851747\n",
       "4       CatBoost Regressor  0.851632\n",
       "5             XGBRegressor  0.827797\n",
       "6                    Lasso  0.825320\n",
       "7    K_Neighbors Regressor  0.784518\n",
       "8            Decision Tree  0.733725"
      ]
     },
     "execution_count": 87,
     "metadata": {},
     "output_type": "execute_result"
    }
   ],
   "source": [
    "pd.DataFrame(list(zip(model_list, r2_list)), columns=['Model Name','R2 Score']).sort_values(by=['R2 Score'],ascending=False, ignore_index=True)"
   ]
  },
  {
   "cell_type": "code",
   "execution_count": 109,
   "id": "ee4e0582",
   "metadata": {},
   "outputs": [
    {
     "name": "stdout",
     "output_type": "stream",
     "text": [
      "Accuracy of the model is 88.07\n"
     ]
    }
   ],
   "source": [
    "linear_model = LinearRegression()\n",
    "linear_model.fit(X_train, y_train)\n",
    "y_pred = linear_model.predict(X_test)\n",
    "\n",
    "score = r2_score(y_test, y_pred)*100\n",
    "print(f\"Accuracy of the model is {round(score, 2)}\")"
   ]
  },
  {
   "cell_type": "code",
   "execution_count": 111,
   "id": "b533852c",
   "metadata": {},
   "outputs": [
    {
     "data": {
      "text/plain": [
       "Text(0, 0.5, 'Predicted')"
      ]
     },
     "execution_count": 111,
     "metadata": {},
     "output_type": "execute_result"
    },
    {
     "data": {
      "image/png": "[encoded data removed]",
      "text/plain": [
       "<Figure size 640x480 with 1 Axes>"
      ]
     },
     "metadata": {},
     "output_type": "display_data"
    }
   ],
   "source": [
    "plt.scatter(y_test, y_pred)\n",
    "plt.xlabel(\"Actual\")\n",
    "plt.ylabel(\"Predicted\")"
   ]
  },
  {
   "cell_type": "code",
   "execution_count": 123,
   "id": "b3a480c6",
   "metadata": {},
   "outputs": [
    {
     "data": {
      "text/plain": [
       "Text(0, 0.5, 'Predicted')"
      ]
     },
     "execution_count": 123,
     "metadata": {},
     "output_type": "execute_result"
    },
    {
     "data": {
      "image/png": "[encoded data removed]",
      "text/plain": [
       "<Figure size 640x480 with 1 Axes>"
      ]
     },
     "metadata": {},
     "output_type": "display_data"
    }
   ],
   "source": [
    "sn.regplot(y_test, y_pred, line_kws={'lw': 1.5, 'color': 'black'})\n",
    "plt.xlabel(\"Actual\")\n",
    "plt.ylabel(\"Predicted\")"
   ]
  },
  {
   "cell_type": "markdown",
   "id": "9443bb87",
   "metadata": {},
   "source": [
    "**Difference between Actual and Predicted Values**"
   ]
  },
  {
   "cell_type": "code",
   "execution_count": 124,
   "id": "7c0090d9",
   "metadata": {},
   "outputs": [],
   "source": [
    "predicated_df = pd.DataFrame({\n",
    "    'Actual Value' : y_test,\n",
    "    'Predicted Value' : y_pred,\n",
    "    'Difference' : y_test - y_pred\n",
    "})"
   ]
  },
  {
   "cell_type": "code",
   "execution_count": 125,
   "id": "e6df3f09",
   "metadata": {},
   "outputs": [
    {
     "data": {
      "text/html": [
       "<div>\n",
       "<style scoped>\n",
       "    .dataframe tbody tr th:only-of-type {\n",
       "        vertical-align: middle;\n",
       "    }\n",
       "\n",
       "    .dataframe tbody tr th {\n",
       "        vertical-align: top;\n",
       "    }\n",
       "\n",
       "    .dataframe thead th {\n",
       "        text-align: right;\n",
       "    }\n",
       "</style>\n",
       "<table border=\"1\" class=\"dataframe\">\n",
       "  <thead>\n",
       "    <tr style=\"text-align: right;\">\n",
       "      <th></th>\n",
       "      <th>Actual Value</th>\n",
       "      <th>Predicted Value</th>\n",
       "      <th>Difference</th>\n",
       "    </tr>\n",
       "  </thead>\n",
       "  <tbody>\n",
       "    <tr>\n",
       "      <th>521</th>\n",
       "      <td>91</td>\n",
       "      <td>76.421875</td>\n",
       "      <td>14.578125</td>\n",
       "    </tr>\n",
       "    <tr>\n",
       "      <th>737</th>\n",
       "      <td>53</td>\n",
       "      <td>58.953125</td>\n",
       "      <td>-5.953125</td>\n",
       "    </tr>\n",
       "    <tr>\n",
       "      <th>740</th>\n",
       "      <td>80</td>\n",
       "      <td>76.921875</td>\n",
       "      <td>3.078125</td>\n",
       "    </tr>\n",
       "    <tr>\n",
       "      <th>660</th>\n",
       "      <td>74</td>\n",
       "      <td>76.921875</td>\n",
       "      <td>-2.921875</td>\n",
       "    </tr>\n",
       "    <tr>\n",
       "      <th>411</th>\n",
       "      <td>84</td>\n",
       "      <td>87.796875</td>\n",
       "      <td>-3.796875</td>\n",
       "    </tr>\n",
       "    <tr>\n",
       "      <th>...</th>\n",
       "      <td>...</td>\n",
       "      <td>...</td>\n",
       "      <td>...</td>\n",
       "    </tr>\n",
       "    <tr>\n",
       "      <th>408</th>\n",
       "      <td>52</td>\n",
       "      <td>43.531250</td>\n",
       "      <td>8.468750</td>\n",
       "    </tr>\n",
       "    <tr>\n",
       "      <th>332</th>\n",
       "      <td>62</td>\n",
       "      <td>62.281250</td>\n",
       "      <td>-0.281250</td>\n",
       "    </tr>\n",
       "    <tr>\n",
       "      <th>208</th>\n",
       "      <td>74</td>\n",
       "      <td>67.734375</td>\n",
       "      <td>6.265625</td>\n",
       "    </tr>\n",
       "    <tr>\n",
       "      <th>613</th>\n",
       "      <td>65</td>\n",
       "      <td>67.046875</td>\n",
       "      <td>-2.046875</td>\n",
       "    </tr>\n",
       "    <tr>\n",
       "      <th>78</th>\n",
       "      <td>61</td>\n",
       "      <td>62.453125</td>\n",
       "      <td>-1.453125</td>\n",
       "    </tr>\n",
       "  </tbody>\n",
       "</table>\n",
       "<p>200 rows × 3 columns</p>\n",
       "</div>"
      ],
      "text/plain": [
       "     Actual Value  Predicted Value  Difference\n",
       "521            91        76.421875   14.578125\n",
       "737            53        58.953125   -5.953125\n",
       "740            80        76.921875    3.078125\n",
       "660            74        76.921875   -2.921875\n",
       "411            84        87.796875   -3.796875\n",
       "..            ...              ...         ...\n",
       "408            52        43.531250    8.468750\n",
       "332            62        62.281250   -0.281250\n",
       "208            74        67.734375    6.265625\n",
       "613            65        67.046875   -2.046875\n",
       "78             61        62.453125   -1.453125\n",
       "\n",
       "[200 rows x 3 columns]"
      ]
     },
     "execution_count": 125,
     "metadata": {},
     "output_type": "execute_result"
    }
   ],
   "source": [
    "predicated_df"
   ]
  },
  {
   "cell_type": "code",
   "execution_count": null,
   "id": "f0cf49c6",
   "metadata": {},
   "outputs": [],
   "source": []
  },
  {
   "cell_type": "code",
   "execution_count": null,
   "id": "43cfde9f",
   "metadata": {},
   "outputs": [],
   "source": []
  }
 ],
 "metadata": {
  "kernelspec": {
   "display_name": "Python 3 (ipykernel)",
   "language": "python",
   "name": "python3"
  },
  "language_info": {
   "codemirror_mode": {
    "name": "ipython",
    "version": 3
   },
   "file_extension": ".py",
   "mimetype": "text/x-python",
   "name": "python",
   "nbconvert_exporter": "python",
   "pygments_lexer": "ipython3",
   "version": "3.8.0"
  }
 },
 "nbformat": 4,
 "nbformat_minor": 5
}
